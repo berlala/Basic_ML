{
 "cells": [
  {
   "cell_type": "code",
   "execution_count": 1,
   "metadata": {},
   "outputs": [],
   "source": [
    "import numpy as np\n",
    "import torch\n",
    "from torch import nn\n",
    "from torch.autograd import Variable\n",
    "from mpl_toolkits.mplot3d import Axes3D\n",
    "\n",
    "import matplotlib.pyplot as plt\n",
    "\n",
    "# Ref L1aoXingyu"
   ]
  },
  {
   "cell_type": "code",
   "execution_count": 2,
   "metadata": {},
   "outputs": [],
   "source": [
    "def load_data(ratio,look_back):\n",
    "    # passengers number of international airline , 1949-01 ~ 1960-12 per month\n",
    "    seq_number = np.array(\n",
    "        [112., 118., 132., 129., 121., 135., 148., 148., 136., 119., 104.,\n",
    "         118., 115., 126., 141., 135., 125., 149., 170., 170., 158., 133.,\n",
    "         114., 140., 145., 150., 178., 163., 172., 178., 199., 199., 184.,\n",
    "         162., 146., 166., 171., 180., 193., 181., 183., 218., 230., 242.,\n",
    "         209., 191., 172., 194., 196., 196., 236., 235., 229., 243., 264.,\n",
    "         272., 237., 211., 180., 201., 204., 188., 235., 227., 234., 264.,\n",
    "         302., 293., 259., 229., 203., 229., 242., 233., 267., 269., 270.,\n",
    "         315., 364., 347., 312., 274., 237., 278., 284., 277., 317., 313.,\n",
    "         318., 374., 413., 405., 355., 306., 271., 306., 315., 301., 356.,\n",
    "         348., 355., 422., 465., 467., 404., 347., 305., 336., 340., 318.,\n",
    "         362., 348., 363., 435., 491., 505., 404., 359., 310., 337., 360.,\n",
    "         342., 406., 396., 420., 472., 548., 559., 463., 407., 362., 405.,\n",
    "         417., 391., 419., 461., 472., 535., 622., 606., 508., 461., 390.,\n",
    "         432.], dtype = np.float32)\n",
    "\n",
    "    seq_number = seq_number[:, np.newaxis]\n",
    "\n",
    "    max_value = np.max(seq_number)\n",
    "    min_value = np.min(seq_number)\n",
    "    scalar = max_value - min_value\n",
    "    seq_number_scala = list(map(lambda x:x/scalar, seq_number))\n",
    "    \n",
    "    # 创建训练集\n",
    "    data_X, data_Y = [],[]\n",
    "    for i in range(len(seq_number_scala)-look_back):\n",
    "        a = seq_number_scala[i:(i+look_back)]\n",
    "        data_X.append(a)\n",
    "        data_Y.append(seq_number_scala[i+look_back])\n",
    "        \n",
    "    # 划分训练集和测试集\n",
    "    train_size = int(len(data_X)*ratio)\n",
    "    test_size = len(data_X) - train_size\n",
    "    train_X = data_X[:train_size]\n",
    "    train_Y = data_Y[:train_size]\n",
    "    test_X = data_X[train_size:]\n",
    "    test_Y = data_Y[train_size:]\n",
    "    \n",
    "\n",
    "    return np.array(train_X),np.array(train_Y),np.array(test_X), np.array(test_Y), data_X,data_Y"
   ]
  },
  {
   "cell_type": "code",
   "execution_count": 3,
   "metadata": {},
   "outputs": [
    {
     "name": "stdout",
     "output_type": "stream",
     "text": [
      "105\n",
      "105\n"
     ]
    }
   ],
   "source": [
    "tr_x, tr_y,te_x,te_y,data_X, data_Y = load_data(0.75,3)\n",
    "\n",
    "print(len(tr_x))  # 训练集\n",
    "print(len(tr_y)) # 测试集"
   ]
  },
  {
   "cell_type": "code",
   "execution_count": 4,
   "metadata": {},
   "outputs": [],
   "source": [
    "# LSTM网络包装函数\n",
    "class RegLSTM(nn.Module):\n",
    "    def __init__(self, inp_dim, out_dim, mid_dim, mid_layers):\n",
    "        super(RegLSTM, self).__init__()\n",
    "\n",
    "        self.rnn = nn.LSTM(inp_dim, mid_dim, mid_layers)  # rnn\n",
    "        #self.reg = nn.Sequential(\n",
    "        #    nn.Linear(mid_dim, mid_dim),\n",
    "        #    nn.Tanh(),\n",
    "        #    nn.Linear(mid_dim, out_dim),\n",
    "        #)  # regression\n",
    "        self.reg = nn.Linear(mid_dim,out_dim)\n",
    "\n",
    "        # x = feature\n",
    "    def forward(self, x):\n",
    "        y = self.rnn(x)[0]  # y, (h, c) = self.rnn(x)\n",
    "\n",
    "        seq_len, batch_size, hid_dim = y.shape\n",
    "        y = y.view(seq_len*batch_size, hid_dim)\n",
    "        y = self.reg(y)\n",
    "        y = y.view(seq_len, batch_size, -1)\n",
    "        return y\n",
    "\n",
    "    \"\"\"\n",
    "    PyCharm Crtl+click nn.LSTM() jump to code of PyTorch:\n",
    "    Examples::\n",
    "        >>> rnn = nn.LSTM(10, 20, 2)\n",
    "        >>> input = torch.randn(5, 3, 10)\n",
    "        >>> h0 = torch.randn(2, 3, 20)\n",
    "        >>> c0 = torch.randn(2, 3, 20)\n",
    "        >>> output, (hn, cn) = rnn(input, (h0, c0))\n",
    "    \"\"\"\n",
    "\n",
    "    def output_y_hc(self, x, hc):\n",
    "        y, hc = self.rnn(x, hc)  # y, (h, c) = self.rnn(x)\n",
    "\n",
    "        seq_len, batch_size, hid_dim = y.size()\n",
    "        y = y.view(-1, hid_dim)\n",
    "        y = self.reg(y)\n",
    "        y = y.view(seq_len, batch_size, -1)\n",
    "        return y, hc"
   ]
  },
  {
   "cell_type": "markdown",
   "metadata": {},
   "source": [
    "# Trainning"
   ]
  },
  {
   "cell_type": "code",
   "execution_count": 7,
   "metadata": {},
   "outputs": [
    {
     "name": "stdout",
     "output_type": "stream",
     "text": [
      "var_x.size(): torch.Size([104, 1, 5])\n",
      "var_y.size(): torch.Size([104, 1, 1])\n",
      "Epoch: 100, Loss: 0.00964\n",
      "Epoch: 200, Loss: 0.00590\n",
      "Epoch: 300, Loss: 0.00557\n",
      "Epoch: 400, Loss: 0.00502\n",
      "Epoch: 500, Loss: 0.00414\n",
      "Epoch: 600, Loss: 0.00211\n",
      "Epoch: 700, Loss: 0.00187\n",
      "Epoch: 800, Loss: 0.00173\n",
      "Epoch: 900, Loss: 0.00160\n",
      "Epoch: 1000, Loss: 0.00146\n",
      "Epoch: 1100, Loss: 0.00130\n",
      "Epoch: 1200, Loss: 0.00104\n",
      "Epoch: 1300, Loss: 0.00086\n",
      "Epoch: 1400, Loss: 0.00072\n",
      "Epoch: 1500, Loss: 0.00059\n",
      "Epoch: 1600, Loss: 0.00053\n",
      "Epoch: 1700, Loss: 0.00049\n",
      "Epoch: 1800, Loss: 0.00045\n",
      "Epoch: 1900, Loss: 0.00041\n",
      "Epoch: 2000, Loss: 0.00037\n",
      "Model is ready!\n"
     ]
    }
   ],
   "source": [
    "# 由本月的数据预测下一个月的数据\n",
    "\n",
    "inp_dim = 5 #输入维度，指用多少历史数据,即上文load_data()中的look_back\n",
    "out_dim = 1 # 输出维度1 \n",
    "mod_dir = '.'\n",
    "\n",
    "'''load data'''\n",
    "ratio = 0.75\n",
    "look_back = inp_dim\n",
    "train_x,train_y,test_x,test_y,data_X,data_Y = load_data(ratio,look_back)\n",
    "train_size = int(len(data_X)*ratio)\n",
    "\n",
    "#需要将数据改变一下形状，因为 RNN 读入的数据维度是 (seq, batch, feature)，\n",
    "#所以要重新改变一下数据的维度，这里只有一个序列，所以 batch 是 1，\n",
    "# feature是一个seq里有几个数，这里是2\n",
    "\n",
    "train_x = train_x.reshape((-1, 1, look_back)) # change from (N,3) to (N,1,3)\n",
    "train_y = train_y.reshape((-1, 1, out_dim))\n",
    "test_x = test_x.reshape((-1, 1,look_back))\n",
    "test_y = test_y.reshape((-1, 1, out_dim))\n",
    "\n",
    "'''build model'''\n",
    "device = torch.device(\"cuda\" if torch.cuda.is_available() else \"cpu\")\n",
    "net = RegLSTM(inp_dim, out_dim, mid_dim=4, mid_layers=2).to(device) # mid_dim即隐藏层维度\n",
    "criterion = nn.MSELoss()\n",
    "optimizer = torch.optim.Adam(net.parameters(), lr=1e-2)\n",
    "\n",
    "'''train'''\n",
    "var_x = torch.tensor(train_x, dtype=torch.float32, device=device)\n",
    "var_y = torch.tensor(train_y, dtype=torch.float32, device=device)\n",
    "#var_x = Variable(torch.from_numpy(train_x))\n",
    "#var_y = Variable(torch.from_numpy(train_y))\n",
    "print('var_x.size():', var_x.size())\n",
    "print('var_y.size():', var_y.size())\n",
    "\n",
    "for e in range(2048):\n",
    "    out = net(var_x)\n",
    "    loss = criterion(out, var_y)\n",
    "\n",
    "    optimizer.zero_grad()\n",
    "    loss.backward()\n",
    "    optimizer.step()\n",
    "\n",
    "    if (e + 1) % 100 == 0:  # 每 100 次输出结果\n",
    "        print('Epoch: {}, Loss: {:.5f}'.format(e + 1, loss.item()))\n",
    "print('Model is ready!')\n",
    "#torch.save(net.state_dict(), '{}/net.pth'.format(mod_dir))\n"
   ]
  },
  {
   "cell_type": "markdown",
   "metadata": {},
   "source": [
    "# Evaluation"
   ]
  },
  {
   "cell_type": "code",
   "execution_count": 8,
   "metadata": {},
   "outputs": [
    {
     "data": {
      "text/plain": [
       "<matplotlib.legend.Legend at 0x7fd73e6a92b0>"
      ]
     },
     "execution_count": 8,
     "metadata": {},
     "output_type": "execute_result"
    },
    {
     "data": {
      "image/png": "[encoded data removed]",
      "text/plain": [
       "<Figure size 432x288 with 1 Axes>"
      ]
     },
     "metadata": {
      "needs_background": "light"
     },
     "output_type": "display_data"
    }
   ],
   "source": [
    "# 传统预测，给定输入后，基于过去的n帧状态，预测之后的1帧状态，全量预测\n",
    "net  = net.eval()\n",
    "data_X = np.array(data_X).reshape(-1,1,inp_dim)\n",
    "data_X = torch.from_numpy(data_X)\n",
    "var_data = Variable(data_X)\n",
    "pred_test = net(var_data)\n",
    "\n",
    "#%matplotlib auto\n",
    "pred_test = pred_test.view(-1).data.numpy()\n",
    "plt.plot(pred_test,'r',label = 'pred')\n",
    "plt.plot(np.array(data_Y), 'b', label = 'real')\n",
    "plt.plot([train_size, train_size], [0, 1], label='train | predict')\n",
    "plt.legend()"
   ]
  },
  {
   "cell_type": "code",
   "execution_count": null,
   "metadata": {},
   "outputs": [],
   "source": []
  }
 ],
 "metadata": {
  "kernelspec": {
   "display_name": "Python [conda env:pytorch]",
   "language": "python",
   "name": "conda-env-pytorch-py"
  },
  "language_info": {
   "codemirror_mode": {
    "name": "ipython",
    "version": 3
   },
   "file_extension": ".py",
   "mimetype": "text/x-python",
   "name": "python",
   "nbconvert_exporter": "python",
   "pygments_lexer": "ipython3",
   "version": "3.6.13"
  }
 },
 "nbformat": 4,
 "nbformat_minor": 2
}
