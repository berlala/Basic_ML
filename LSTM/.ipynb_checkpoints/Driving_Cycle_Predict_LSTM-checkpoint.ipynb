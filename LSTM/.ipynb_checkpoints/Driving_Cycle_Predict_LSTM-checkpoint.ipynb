{
 "cells": [
  {
   "cell_type": "code",
   "execution_count": 1,
   "metadata": {},
   "outputs": [
    {
     "data": {
      "text/plain": [
       "'\\nREF:\\nGithub: Yonv1943 Zen4 Jia1 hao2\\nhttps://github.com/Yonv1943/DL_RL_Zoo/blob/master/RNN\\nThe source of training data \\nhttps://github.com/L1aoXingyu/\\ncode-of-learn-deep-learning-with-pytorch/blob/master/\\nchapter5_RNN/time-series/lstm-time-series.ipynb\\n'"
      ]
     },
     "execution_count": 1,
     "metadata": {},
     "output_type": "execute_result"
    }
   ],
   "source": [
    "import numpy as np\n",
    "import torch\n",
    "from torch import nn\n",
    "\n",
    "import matplotlib.pyplot as plt"
   ]
  },
  {
   "cell_type": "code",
   "execution_count": 2,
   "metadata": {},
   "outputs": [],
   "source": [
    "def load_data():\n",
    "    # passengers number of international airline , 1949-01 ~ 1960-12 per month\n",
    "    seq_number = np.array(\n",
    "        [112., 118., 132., 129., 121., 135., 148., 148., 136., 119., 104.,\n",
    "         118., 115., 126., 141., 135., 125., 149., 170., 170., 158., 133.,\n",
    "         114., 140., 145., 150., 178., 163., 172., 178., 199., 199., 184.,\n",
    "         162., 146., 166., 171., 180., 193., 181., 183., 218., 230., 242.,\n",
    "         209., 191., 172., 194., 196., 196., 236., 235., 229., 243., 264.,\n",
    "         272., 237., 211., 180., 201., 204., 188., 235., 227., 234., 264.,\n",
    "         302., 293., 259., 229., 203., 229., 242., 233., 267., 269., 270.,\n",
    "         315., 364., 347., 312., 274., 237., 278., 284., 277., 317., 313.,\n",
    "         318., 374., 413., 405., 355., 306., 271., 306., 315., 301., 356.,\n",
    "         348., 355., 422., 465., 467., 404., 347., 305., 336., 340., 318.,\n",
    "         362., 348., 363., 435., 491., 505., 404., 359., 310., 337., 360.,\n",
    "         342., 406., 396., 420., 472., 548., 559., 463., 407., 362., 405.,\n",
    "         417., 391., 419., 461., 472., 535., 622., 606., 508., 461., 390.,\n",
    "         432.], dtype=np.float32)\n",
    "    # assert seq_number.shape == (144, )\n",
    "    # plt.plot(seq_number)\n",
    "    # plt.ion()\n",
    "    # plt.pause(1)\n",
    "    seq_number = seq_number[:, np.newaxis]\n",
    "\n",
    "    # print(repr(seq))\n",
    "    # 1949~1960, 12 years, 12*12==144 month\n",
    "    seq_year = np.arange(12)\n",
    "    seq_month = np.arange(12)\n",
    "    seq_year_month = np.transpose(\n",
    "        [np.repeat(seq_year, len(seq_month)),\n",
    "         np.tile(seq_month, len(seq_year))],\n",
    "    )  # Cartesian Product\n",
    "\n",
    "    seq = np.concatenate((seq_number, seq_year_month), axis=1)\n",
    "\n",
    "    # normalization\n",
    "    seq = (seq - seq.mean(axis=0)) / seq.std(axis=0)\n",
    "    return seq"
   ]
  },
  {
   "cell_type": "code",
   "execution_count": 3,
   "metadata": {},
   "outputs": [],
   "source": [
    "# LSTM网络包装函数\n",
    "class RegLSTM(nn.Module):\n",
    "    def __init__(self, inp_dim, out_dim, mid_dim, mid_layers):\n",
    "        super(RegLSTM, self).__init__()\n",
    "\n",
    "        self.rnn = nn.LSTM(inp_dim, mid_dim, mid_layers)  # rnn\n",
    "        self.reg = nn.Sequential(\n",
    "            nn.Linear(mid_dim, mid_dim),\n",
    "            nn.Tanh(),\n",
    "            nn.Linear(mid_dim, out_dim),\n",
    "        )  # regression\n",
    "\n",
    "        # x = feature\n",
    "    def forward(self, x):\n",
    "        y = self.rnn(x)[0]  # y, (h, c) = self.rnn(x)\n",
    "\n",
    "        seq_len, batch_size, hid_dim = y.shape\n",
    "        y = y.view(-1, hid_dim)\n",
    "        y = self.reg(y)\n",
    "        y = y.view(seq_len, batch_size, -1)\n",
    "        return y\n",
    "\n",
    "    \"\"\"\n",
    "    PyCharm Crtl+click nn.LSTM() jump to code of PyTorch:\n",
    "    Examples::\n",
    "        >>> rnn = nn.LSTM(10, 20, 2)\n",
    "        >>> input = torch.randn(5, 3, 10)\n",
    "        >>> h0 = torch.randn(2, 3, 20)\n",
    "        >>> c0 = torch.randn(2, 3, 20)\n",
    "        >>> output, (hn, cn) = rnn(input, (h0, c0))\n",
    "    \"\"\"\n",
    "\n",
    "    def output_y_hc(self, x, hc):\n",
    "        y, hc = self.rnn(x, hc)  # y, (h, c) = self.rnn(x)\n",
    "\n",
    "        seq_len, batch_size, hid_dim = y.size()\n",
    "        y = y.view(-1, hid_dim)\n",
    "        y = self.reg(y)\n",
    "        y = y.view(seq_len, batch_size, -1)\n",
    "        return y, hc"
   ]
  },
  {
   "cell_type": "code",
   "execution_count": 9,
   "metadata": {},
   "outputs": [],
   "source": [
    "# 由本月的数据预测下一个月的数据\n",
    "\n",
    "def run_origin():\n",
    "    inp_dim = 3\n",
    "    out_dim = 1\n",
    "    mod_dir = '.'\n",
    "\n",
    "    '''load data'''\n",
    "    data = load_data()  # axis1: number, year, month\n",
    "    #data_x = np.concatenate((data[:-2, 0:1], data[+1:-1, 0:1]), axis=1)\n",
    "    #data_y = data[2:, 0]\n",
    "\n",
    "    data_x = data[:, :] # all data set\n",
    "    data_y = data[:, 0] # 客流量\n",
    "    \n",
    "    train_size = int(len(data_x) * 0.75)\n",
    "    train_x = data_x[0:train_size]\n",
    "    train_y = data_y[0:train_size]\n",
    "\n",
    "    #需要将数据改变一下形状，因为 RNN 读入的数据维度是 (seq, batch, feature)，\n",
    "    #所以要重新改变一下数据的维度，这里只有一个序列，所以 batch 是 1，\n",
    "    \n",
    "    train_x = train_x.reshape((-1, 1, inp_dim)) # change from (N,3) to (N,1,3)\n",
    "    train_y = train_y.reshape((-1, 1, out_dim))\n",
    "\n",
    "    '''build model'''\n",
    "    device = torch.device(\"cuda\" if torch.cuda.is_available() else \"cpu\")\n",
    "    net = RegLSTM(inp_dim, out_dim, mid_dim=8, mid_layers=4).to(device)\n",
    "    criterion = nn.SmoothL1Loss()\n",
    "    optimizer = torch.optim.Adam(net.parameters(), lr=1e-2)\n",
    "\n",
    "    '''train'''\n",
    "    var_x = torch.tensor(train_x, dtype=torch.float32, device=device)\n",
    "    var_y = torch.tensor(train_y, dtype=torch.float32, device=device)\n",
    "    print('var_x.size():', var_x.size())\n",
    "    print('var_y.size():', var_y.size())\n",
    "\n",
    "    for e in range(1024):\n",
    "        out = net(var_x)\n",
    "        loss = criterion(out, var_y)\n",
    "\n",
    "        optimizer.zero_grad()\n",
    "        loss.backward()\n",
    "        optimizer.step()\n",
    "\n",
    "        if (e + 1) % 100 == 0:  # 每 100 次输出结果\n",
    "            print('Epoch: {}, Loss: {:.5f}'.format(e + 1, loss.item()))\n",
    "\n",
    "    torch.save(net.state_dict(), '{}/net.pth'.format(mod_dir))\n",
    "\n",
    "    '''eval'''\n",
    "    # net.load_state_dict(torch.load('{}/net.pth'.format(mod_dir), map_location=lambda storage, loc: storage))\n",
    "    net = net.eval()  # 转换成测试模式\n",
    "\n",
    "    #\"\"\"\n",
    "    #inappropriate way of seq prediction: \n",
    "    #use all real data to predict the number of next month\n",
    "    #\"\"\"\n",
    "    #test_x = data_x.reshape((-1, 1, inp_dim)) #验证\n",
    "    #var_data = torch.tensor(test_x, dtype=torch.float32, device=device)\n",
    "    #eval_y = net(var_data)  # 测试集的预测结果\n",
    "    #pred_y = eval_y.view(-1).cpu().data.numpy()\n",
    "    #plt.plot(pred_y[1:], 'r', label='Prediction', alpha=0.3)\n",
    "    #plt.plot(data_y, 'b', label='real', alpha=0.3)\n",
    "    #plt.plot([train_size, train_size], [-1, 2], label='train | pred')\n",
    "    #plt.legend(loc='best')\n",
    "    #plt.savefig('lstm_origin.png')\n",
    "    #plt.pause(4)\n",
    "    \n",
    "    \"\"\"\n",
    "    appropriate way of seq prediction: \n",
    "    use real+pred data to predict the number of next 3 years.\n",
    "    \"\"\"\n",
    "    test_x = data_x.reshape((-1, 1, inp_dim))\n",
    "    test_x_in = np.copy(test_x);\n",
    "    #print(test_x_in) \n",
    "    test_x_in[train_size:,0,0] = 0  # 删去需要预测的客流量信息\n",
    "    #print(test_x_in) \n",
    "    test_x_in = torch.tensor(test_x_in, dtype=torch.float32, device=device)\n",
    "    for i in range(train_size, len(data) - 1):\n",
    "        test_y = net(test_x_in[:i]) # predict 客流量\n",
    "        test_x_in[i, 0, 0] = test_y[-1, 0] #将上一帧的预测量作为输入数据的一部分\n",
    "\n",
    "    pred_y = test_x_in.cpu().data.numpy()\n",
    "    pred_y = pred_y[:, 0, 0]\n",
    "    plt.plot(data_y, 'r', label='real', alpha=0.3)\n",
    "    plt.plot([train_size, train_size], [-1, 2], label='train | predict')\n",
    "    plt.plot(pred_y[2:], 'g', label='predict')\n",
    "    plt.legend(loc='best')\n",
    "    plt.savefig('lstm.png')\n",
    "    plt.pause(4)"
   ]
  },
  {
   "cell_type": "code",
   "execution_count": 10,
   "metadata": {
    "scrolled": true
   },
   "outputs": [
    {
     "name": "stdout",
     "output_type": "stream",
     "text": [
      "var_x.size(): torch.Size([108, 1, 3])\n",
      "var_y.size(): torch.Size([108, 1, 1])\n",
      "Epoch: 100, Loss: 0.01071\n",
      "Epoch: 200, Loss: 0.00466\n",
      "Epoch: 300, Loss: 0.00334\n",
      "Epoch: 400, Loss: 0.00167\n",
      "Epoch: 500, Loss: 0.00070\n",
      "Epoch: 600, Loss: 0.00026\n",
      "Epoch: 700, Loss: 0.00016\n",
      "Epoch: 800, Loss: 0.00015\n",
      "Epoch: 900, Loss: 0.00007\n",
      "Epoch: 1000, Loss: 0.00025\n"
     ]
    },
    {
     "data": {
      "image/png": "[encoded data removed]",
      "text/plain": [
       "<Figure size 432x288 with 1 Axes>"
      ]
     },
     "metadata": {
      "needs_background": "light"
     },
     "output_type": "display_data"
    }
   ],
   "source": [
    "if __name__ == '__main__':\n",
    "    run_origin()\n",
    "    #run_origin_Demo()"
   ]
  },
  {
   "cell_type": "code",
   "execution_count": null,
   "metadata": {},
   "outputs": [],
   "source": []
  }
 ],
 "metadata": {
  "kernelspec": {
   "display_name": "Python [conda env:LSTM] *",
   "language": "python",
   "name": "conda-env-LSTM-py"
  },
  "language_info": {
   "codemirror_mode": {
    "name": "ipython",
    "version": 3
   },
   "file_extension": ".py",
   "mimetype": "text/x-python",
   "name": "python",
   "nbconvert_exporter": "python",
   "pygments_lexer": "ipython3",
   "version": "3.7.6"
  }
 },
 "nbformat": 4,
 "nbformat_minor": 2
}
