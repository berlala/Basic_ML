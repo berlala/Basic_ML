{
 "cells": [
  {
   "cell_type": "code",
   "execution_count": 3,
   "metadata": {},
   "outputs": [
    {
     "data": {
      "text/plain": [
       "<Figure size 640x480 with 1 Axes>"
      ]
     },
     "metadata": {},
     "output_type": "display_data"
    }
   ],
   "source": [
    "from numpy import *\n",
    "import numpy as np\n",
    "import matplotlib.pyplot as plt\n",
    "\n",
    "plt.close()\n",
    "fig=plt.figure()\n",
    "plt.grid(True)\n",
    "plt.axis([0,10,0,8])\n",
    "\n",
    "#列出数据\n",
    "point=[[1,2],[2,3],[3,6],[4,7],[6,5],[7,3],[8,2]]\n",
    "plt.xlabel(\"X\")\n",
    "plt.ylabel(\"Y\")\n",
    "\n",
    "#用于求出矩阵中各点的值\n",
    "XSum = 0.0\n",
    "X2Sum = 0.0\n",
    "X3Sum = 0.0\n",
    "X4Sum = 0.0\n",
    "ISum = 0.0\n",
    "YSum = 0.0\n",
    "XYSum = 0.0\n",
    "X2YSum = 0.0\n",
    "\n",
    "\n",
    "#列出各点的位置\n",
    "for i in range(0,len(point)):\n",
    "\n",
    "    xi=point[i][0]\n",
    "    yi=point[i][1]\n",
    "    plt.scatter(xi,yi,color=\"red\")\n",
    "    show_point = \"(\"+ str(xi) +\",\"+ str(yi) + \")\"\n",
    "    plt.text(xi,yi,show_point)\n",
    "\n",
    "    XSum = XSum+xi\n",
    "    X2Sum = X2Sum+xi**2\n",
    "    X3Sum = X3Sum + xi**3\n",
    "    X4Sum = X4Sum + xi**4\n",
    "    ISum = ISum+1\n",
    "    YSum = YSum+yi\n",
    "    XYSum = XYSum+xi*yi\n",
    "    X2YSum = X2YSum + xi**2*yi\n",
    "\n",
    "# 进行矩阵运算\n",
    "# _mat1 设为 mat1 的逆矩阵\n",
    "m1=[[ISum,XSum, X2Sum],[XSum, X2Sum, X3Sum],[X2Sum, X3Sum, X4Sum]]\n",
    "mat1 = np.matrix(m1)\n",
    "m2=[[YSum], [XYSum], [X2YSum]]\n",
    "mat2 = np.matrix(m2)\n",
    "_mat1 =mat1.getI()\n",
    "mat3 = _mat1*mat2\n",
    "\n",
    "# 用list来提取矩阵数据\n",
    "m3=mat3.tolist()\n",
    "a = m3[0][0]\n",
    "b = m3[1][0]\n",
    "c = m3[2][0]\n",
    "# 绘制回归线\n",
    "x = np.linspace(0,10)\n",
    "y = a + b*x + c*x**2\n"
   ]
  },
  {
   "cell_type": "code",
   "execution_count": 4,
   "metadata": {},
   "outputs": [
    {
     "data": {
      "image/png": "[encoded data removed]",
      "text/plain": [
       "<Figure size 432x288 with 1 Axes>"
      ]
     },
     "metadata": {
      "needs_background": "light"
     },
     "output_type": "display_data"
    }
   ],
   "source": [
    "plt.plot(x,y)\n",
    "show_line = \"y=\"+str(a)+\"+(\"+str(b)+\"x)\"+\"+(\"+str(c)+\"x2)\";\n",
    "plt.title(show_line)\n",
    "plt.show()"
   ]
  },
  {
   "cell_type": "code",
   "execution_count": null,
   "metadata": {},
   "outputs": [],
   "source": []
  }
 ],
 "metadata": {
  "kernelspec": {
   "display_name": "Python [conda env:TF] *",
   "language": "python",
   "name": "conda-env-TF-py"
  },
  "language_info": {
   "codemirror_mode": {
    "name": "ipython",
    "version": 3
   },
   "file_extension": ".py",
   "mimetype": "text/x-python",
   "name": "python",
   "nbconvert_exporter": "python",
   "pygments_lexer": "ipython3",
   "version": "3.6.7"
  }
 },
 "nbformat": 4,
 "nbformat_minor": 2
}
